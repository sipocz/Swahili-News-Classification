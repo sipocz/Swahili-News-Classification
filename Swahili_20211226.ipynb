{
 "cells": [
  {
   "cell_type": "markdown",
   "metadata": {
    "colab_type": "text",
    "id": "view-in-github"
   },
   "source": [
    "<a href=\"https://colab.research.google.com/github/sipocz/Swahili-News-Classification/blob/main/Swahili_20211218.ipynb\" target=\"_parent\"><img src=\"https://colab.research.google.com/assets/colab-badge.svg\" alt=\"Open In Colab\"/></a>"
   ]
  },
  {
   "cell_type": "code",
   "execution_count": null,
   "metadata": {
    "id": "3VoDnJFuApPY"
   },
   "outputs": [],
   "source": []
  },
  {
   "cell_type": "code",
   "execution_count": 59,
   "metadata": {
    "id": "lS8T-dxnwfjO"
   },
   "outputs": [],
   "source": [
    "import pandas as pd"
   ]
  },
  {
   "cell_type": "code",
   "execution_count": 60,
   "metadata": {
    "id": "xFjap2PTfYbv"
   },
   "outputs": [],
   "source": [
    "#emoji_url=\"https://github.com/sipocz/Twitter-Sentiment-Analysis-AI-Challenge/raw/5e7d7d29f58be438f33fa0c0bc2fd251dea0b453/emoji.py\"\n",
    "#!rm emoji.py\n",
    "#!wget $emoji_url\n",
    "#import emoji"
   ]
  },
  {
   "cell_type": "code",
   "execution_count": 61,
   "metadata": {
    "colab": {
     "base_uri": "https://localhost:8080/"
    },
    "id": "TVKfMbXhg0ZO",
    "outputId": "ef8eb0c1-83ed-4d98-fcdb-2d449ed5b5c0"
   },
   "outputs": [
    {
     "name": "stdout",
     "output_type": "stream",
     "text": [
      "Requirement already satisfied: emoji in /home/sipocz/.local/lib/python3.8/site-packages (1.6.1)\n"
     ]
    }
   ],
   "source": [
    "! pip install emoji\n",
    "import emoji"
   ]
  },
  {
   "cell_type": "code",
   "execution_count": 62,
   "metadata": {
    "colab": {
     "base_uri": "https://localhost:8080/",
     "height": 35
    },
    "id": "UMHsrRn4f7Ct",
    "outputId": "e01925eb-5c92-45eb-8733-951cb4f21dde"
   },
   "outputs": [
    {
     "data": {
      "text/plain": [
       "'hello :thumbs_up:'"
      ]
     },
     "execution_count": 62,
     "metadata": {},
     "output_type": "execute_result"
    }
   ],
   "source": [
    "\n",
    "emoji.demojize(\"hello 👍\")"
   ]
  },
  {
   "cell_type": "markdown",
   "metadata": {
    "id": "YDQLvAy5gI0C"
   },
   "source": [
    "##Szószedet"
   ]
  },
  {
   "cell_type": "code",
   "execution_count": 63,
   "metadata": {
    "colab": {
     "base_uri": "https://localhost:8080/"
    },
    "id": "lDUZMjUkgIIe",
    "outputId": "ca871332-8d98-4a49-ca9d-f37ef17c63e1"
   },
   "outputs": [
    {
     "name": "stdout",
     "output_type": "stream",
     "text": [
      "--2021-12-24 08:48:23--  https://github.com/sipocz/Swahili-News-Classification/raw/7b81dccbf754fe6c1433206b3f72202229d2ae6d/orig/Train.csv\n",
      "github.com (github.com) feloldása… 140.82.121.3\n",
      "Csatlakozás a következőhöz: github.com (github.com)[140.82.121.3]:443… kapcsolódva.\n",
      "HTTP kérés elküldve, várakozás válaszra… 302 Found\n",
      "Hely: https://raw.githubusercontent.com/sipocz/Swahili-News-Classification/7b81dccbf754fe6c1433206b3f72202229d2ae6d/orig/Train.csv [következik]\n",
      "--2021-12-24 08:48:23--  https://raw.githubusercontent.com/sipocz/Swahili-News-Classification/7b81dccbf754fe6c1433206b3f72202229d2ae6d/orig/Train.csv\n",
      "raw.githubusercontent.com (raw.githubusercontent.com) feloldása… 185.199.110.133, 185.199.109.133, 185.199.108.133, ...\n",
      "Csatlakozás a következőhöz: raw.githubusercontent.com (raw.githubusercontent.com)[185.199.110.133]:443… kapcsolódva.\n",
      "HTTP kérés elküldve, várakozás válaszra… 200 OK\n",
      "Hossz: 10984543 (10M) [text/plain]\n",
      "Mentés ide: „Train.csv”\n",
      "\n",
      "Train.csv           100%[===================>]  10,48M  10,3MB/s    idő 1,0s   \n",
      "\n",
      "2021-12-24 08:48:25 (10,3 MB/s) -- „Train.csv” mentve [10984543/10984543]\n",
      "\n",
      "--2021-12-24 08:48:25--  https://github.com/sipocz/Swahili-News-Classification/raw/7b81dccbf754fe6c1433206b3f72202229d2ae6d/orig/Test.csv\n",
      "github.com (github.com) feloldása… 140.82.121.3\n",
      "Csatlakozás a következőhöz: github.com (github.com)[140.82.121.3]:443… kapcsolódva.\n",
      "HTTP kérés elküldve, várakozás válaszra… 302 Found\n",
      "Hely: https://raw.githubusercontent.com/sipocz/Swahili-News-Classification/7b81dccbf754fe6c1433206b3f72202229d2ae6d/orig/Test.csv [következik]\n",
      "--2021-12-24 08:48:26--  https://raw.githubusercontent.com/sipocz/Swahili-News-Classification/7b81dccbf754fe6c1433206b3f72202229d2ae6d/orig/Test.csv\n",
      "raw.githubusercontent.com (raw.githubusercontent.com) feloldása… 185.199.110.133, 185.199.109.133, 185.199.108.133, ...\n",
      "Csatlakozás a következőhöz: raw.githubusercontent.com (raw.githubusercontent.com)[185.199.110.133]:443… kapcsolódva.\n",
      "HTTP kérés elküldve, várakozás válaszra… 200 OK\n",
      "Hossz: 2786438 (2,7M) [text/plain]\n",
      "Mentés ide: „Test.csv”\n",
      "\n",
      "Test.csv            100%[===================>]   2,66M  8,28MB/s    idő 0,3s   \n",
      "\n",
      "2021-12-24 08:48:26 (8,28 MB/s) -- „Test.csv” mentve [2786438/2786438]\n",
      "\n"
     ]
    }
   ],
   "source": [
    "!rm *Train*\n",
    "!rm *Test*\n",
    "\n",
    "!wget https://github.com/sipocz/Swahili-News-Classification/raw/7b81dccbf754fe6c1433206b3f72202229d2ae6d/orig/Train.csv\n",
    "!wget https://github.com/sipocz/Swahili-News-Classification/raw/7b81dccbf754fe6c1433206b3f72202229d2ae6d/orig/Test.csv\n",
    "\n",
    "df_test=pd.read_csv(\"Test.csv\")"
   ]
  },
  {
   "cell_type": "code",
   "execution_count": 64,
   "metadata": {
    "colab": {
     "base_uri": "https://localhost:8080/",
     "height": 206
    },
    "id": "YDtEcJB5haQF",
    "outputId": "d38ff8cb-771e-4d84-9516-41ab6dcd6c63"
   },
   "outputs": [
    {
     "data": {
      "text/html": [
       "<div>\n",
       "<style scoped>\n",
       "    .dataframe tbody tr th:only-of-type {\n",
       "        vertical-align: middle;\n",
       "    }\n",
       "\n",
       "    .dataframe tbody tr th {\n",
       "        vertical-align: top;\n",
       "    }\n",
       "\n",
       "    .dataframe thead th {\n",
       "        text-align: right;\n",
       "    }\n",
       "</style>\n",
       "<table border=\"1\" class=\"dataframe\">\n",
       "  <thead>\n",
       "    <tr style=\"text-align: right;\">\n",
       "      <th></th>\n",
       "      <th>swahili_id</th>\n",
       "      <th>content</th>\n",
       "    </tr>\n",
       "  </thead>\n",
       "  <tbody>\n",
       "    <tr>\n",
       "      <th>0</th>\n",
       "      <td>001dd47ac202d9db6624a5ff734a5e7dddafeaf2</td>\n",
       "      <td>MKUU wa Wilaya ya Bahi, Mkoani Dodoma, Mwanah...</td>\n",
       "    </tr>\n",
       "    <tr>\n",
       "      <th>1</th>\n",
       "      <td>0043d97f7690e9bc02f0ed8bb2b260d1d44bad92</td>\n",
       "      <td>MWISHONI mwa wiki hii, Timu ya Soka ya Taifa,...</td>\n",
       "    </tr>\n",
       "    <tr>\n",
       "      <th>2</th>\n",
       "      <td>00579c2307b5c11003d21c40c3ecff5e922c3fd8</td>\n",
       "      <td>THAMANI ya mauzo ya bidhaa za Afrika Masharik...</td>\n",
       "    </tr>\n",
       "    <tr>\n",
       "      <th>3</th>\n",
       "      <td>00868eeee349e286303706ef0ffd851f39708d37</td>\n",
       "      <td>MENEJA Mawasiliano na Utetezi wa asasi ya AGP...</td>\n",
       "    </tr>\n",
       "    <tr>\n",
       "      <th>4</th>\n",
       "      <td>00a5cb12d3058dcf2e42f277eee599992db32412</td>\n",
       "      <td>WAZIRI wa Kilimo, Japhet Hasunga amesema seri...</td>\n",
       "    </tr>\n",
       "  </tbody>\n",
       "</table>\n",
       "</div>"
      ],
      "text/plain": [
       "                                 swahili_id  \\\n",
       "0  001dd47ac202d9db6624a5ff734a5e7dddafeaf2   \n",
       "1  0043d97f7690e9bc02f0ed8bb2b260d1d44bad92   \n",
       "2  00579c2307b5c11003d21c40c3ecff5e922c3fd8   \n",
       "3  00868eeee349e286303706ef0ffd851f39708d37   \n",
       "4  00a5cb12d3058dcf2e42f277eee599992db32412   \n",
       "\n",
       "                                             content  \n",
       "0   MKUU wa Wilaya ya Bahi, Mkoani Dodoma, Mwanah...  \n",
       "1   MWISHONI mwa wiki hii, Timu ya Soka ya Taifa,...  \n",
       "2   THAMANI ya mauzo ya bidhaa za Afrika Masharik...  \n",
       "3   MENEJA Mawasiliano na Utetezi wa asasi ya AGP...  \n",
       "4   WAZIRI wa Kilimo, Japhet Hasunga amesema seri...  "
      ]
     },
     "execution_count": 64,
     "metadata": {},
     "output_type": "execute_result"
    }
   ],
   "source": [
    "df_test.head()\n",
    "\n"
   ]
  },
  {
   "cell_type": "code",
   "execution_count": 65,
   "metadata": {
    "id": "dA8Mk878pUdU"
   },
   "outputs": [],
   "source": [
    "df_train=pd.read_csv(\"Train.csv\")\n"
   ]
  },
  {
   "cell_type": "code",
   "execution_count": 66,
   "metadata": {
    "colab": {
     "base_uri": "https://localhost:8080/",
     "height": 206
    },
    "id": "OczaGqbTqKgz",
    "outputId": "c3e2bbe5-ff5a-4f30-ce4d-15090f30a045"
   },
   "outputs": [
    {
     "data": {
      "text/html": [
       "<div>\n",
       "<style scoped>\n",
       "    .dataframe tbody tr th:only-of-type {\n",
       "        vertical-align: middle;\n",
       "    }\n",
       "\n",
       "    .dataframe tbody tr th {\n",
       "        vertical-align: top;\n",
       "    }\n",
       "\n",
       "    .dataframe thead th {\n",
       "        text-align: right;\n",
       "    }\n",
       "</style>\n",
       "<table border=\"1\" class=\"dataframe\">\n",
       "  <thead>\n",
       "    <tr style=\"text-align: right;\">\n",
       "      <th></th>\n",
       "      <th>id</th>\n",
       "      <th>content</th>\n",
       "      <th>category</th>\n",
       "    </tr>\n",
       "  </thead>\n",
       "  <tbody>\n",
       "    <tr>\n",
       "      <th>0</th>\n",
       "      <td>SW0</td>\n",
       "      <td>SERIKALI imesema haitakuwa tayari kuona amani...</td>\n",
       "      <td>Kitaifa</td>\n",
       "    </tr>\n",
       "    <tr>\n",
       "      <th>1</th>\n",
       "      <td>SW1</td>\n",
       "      <td>Mkuu wa Mkoa wa Tabora, Aggrey Mwanri amesiti...</td>\n",
       "      <td>Biashara</td>\n",
       "    </tr>\n",
       "    <tr>\n",
       "      <th>2</th>\n",
       "      <td>SW10</td>\n",
       "      <td>SERIKALI imetoa miezi sita kwa taasisi zote z...</td>\n",
       "      <td>Kitaifa</td>\n",
       "    </tr>\n",
       "    <tr>\n",
       "      <th>3</th>\n",
       "      <td>SW100</td>\n",
       "      <td>KAMPUNI ya mchezo wa kubahatisha ya M-bet ime...</td>\n",
       "      <td>michezo</td>\n",
       "    </tr>\n",
       "    <tr>\n",
       "      <th>4</th>\n",
       "      <td>SW1000</td>\n",
       "      <td>WATANZANIA wamekumbushwa kusherehekea sikukuu...</td>\n",
       "      <td>Kitaifa</td>\n",
       "    </tr>\n",
       "  </tbody>\n",
       "</table>\n",
       "</div>"
      ],
      "text/plain": [
       "       id                                            content  category\n",
       "0     SW0   SERIKALI imesema haitakuwa tayari kuona amani...   Kitaifa\n",
       "1     SW1   Mkuu wa Mkoa wa Tabora, Aggrey Mwanri amesiti...  Biashara\n",
       "2    SW10   SERIKALI imetoa miezi sita kwa taasisi zote z...   Kitaifa\n",
       "3   SW100   KAMPUNI ya mchezo wa kubahatisha ya M-bet ime...   michezo\n",
       "4  SW1000   WATANZANIA wamekumbushwa kusherehekea sikukuu...   Kitaifa"
      ]
     },
     "execution_count": 66,
     "metadata": {},
     "output_type": "execute_result"
    }
   ],
   "source": [
    "df_train.head()"
   ]
  },
  {
   "cell_type": "code",
   "execution_count": 67,
   "metadata": {
    "id": "2vGSDdwGqneG"
   },
   "outputs": [],
   "source": [
    "test=list(df_test.content)\n",
    "train=list(df_train.content)\n"
   ]
  },
  {
   "cell_type": "code",
   "execution_count": 68,
   "metadata": {
    "id": "tuRrm2HJja_6"
   },
   "outputs": [],
   "source": [
    "alltext=train+test"
   ]
  },
  {
   "cell_type": "code",
   "execution_count": 69,
   "metadata": {
    "id": "RCN90l7Ijkb5"
   },
   "outputs": [],
   "source": [
    "import re\n",
    "\n",
    "def remove_URL(text):\n",
    "    \"\"\"Remove URLs from a text string\"\"\"\n",
    "    return re.sub(r\"http\\S+\", \"\", text)\n",
    "\n",
    "def remove_emoji(string):\n",
    "    emoji_pattern = re.compile(\"[\"\n",
    "                           u\"\\U0001F600-\\U0001F64F\"  # emoticons\n",
    "                           u\"\\U0001F300-\\U0001F5FF\"  # symbols & pictographs\n",
    "                           u\"\\U0001F680-\\U0001F6FF\"  # transport & map symbols\n",
    "                           u\"\\U0001F1E0-\\U0001F1FF\"  # flags (iOS)\n",
    "                           u\"\\U00002702-\\U000027B0\"\n",
    "                           u\"\\U000024C2-\\U0001F251\"\n",
    "                           \"]+\", flags=re.UNICODE)\n",
    "    return emoji_pattern.sub(r'', string)\n",
    "\n",
    "def is_number(inp:str):\n",
    "    a=re.search(\"[\\d]\",inp)\n",
    "    if a==None: \n",
    "        return(False)\n",
    "    return(True)\n",
    "\n",
    "def strip_all_entities(text):\n",
    "    import emoji\n",
    "    import re,string\n",
    "    entity_prefixes = ['“','@','#',\"!\",\"?\"]\n",
    "    for separator in  string.punctuation:\n",
    "        if separator not in entity_prefixes :\n",
    "            text = text.replace(separator,' ')\n",
    "    words = []\n",
    "    for word in text.split():\n",
    "        word = word.strip()\n",
    "        if word:\n",
    "            if word[0] not in entity_prefixes:\n",
    "                words.append(word)\n",
    "    return ' '.join(words)\n",
    "\n",
    "def query_sentence(index):\n",
    "    print(f\"orig: {alltext[index]}\")\n",
    "    \n",
    "    inp=alltext[index]\n",
    "    inp=remove_URL(inp)\n",
    "    inp=emoji.demojize(inp)\n",
    "    inp=strip_all_entities(inp)\n",
    "    \n",
    "    txt=inp.replace(\",\",\" \").replace(\".\",\" \").replace(\"!\",\" _exclamation_ \").replace(\"#\",\" \").replace(\"???\",\"?\").replace(\"??\",\"?\").replace(\"?\",\" _questionmark_ \").replace(\"  \",\" \").replace(\"  \",\" \").replace('\"',\"\").replace(\"“\",\"\")\n",
    "    txt=txt.lower()\n",
    "    print(\"after replace=\",txt)\n",
    "    #print(txt)\n",
    "    normal=\"\"\n",
    "    for i in txt.split(\" \"):\n",
    "        w1=i.lower().strip()\n",
    "        \n",
    "        normal += w1+\" \"\n",
    "\n",
    "    print(f\"  conv: {normal}\")\n",
    "    return(normal)"
   ]
  },
  {
   "cell_type": "markdown",
   "metadata": {
    "id": "KzMOTKbN2G3R"
   },
   "source": [
    "##Mentés"
   ]
  },
  {
   "cell_type": "code",
   "execution_count": null,
   "metadata": {
    "colab": {
     "base_uri": "https://localhost:8080/"
    },
    "id": "N9ZUtwPWj2wv",
    "outputId": "1c229a7a-6b67-4827-c5c8-a72d8c0941f3"
   },
   "outputs": [],
   "source": [
    "t=[]\n",
    "for i in range(len(alltext)):   #len(alltext)\n",
    "    #print(f\"{i}\", end=\" \")\n",
    "    t.append(query_sentence(i))\n"
   ]
  },
  {
   "cell_type": "code",
   "execution_count": null,
   "metadata": {
    "colab": {
     "base_uri": "https://localhost:8080/"
    },
    "id": "ivPXsq3JoP0m",
    "outputId": "015e089a-34a7-41f9-e95b-6365b98cd925"
   },
   "outputs": [],
   "source": [
    "s=set()\n",
    "for sent in t:\n",
    "    wlist=sent.strip().split()\n",
    "    for w in wlist:\n",
    "        s.add(w)\n",
    "print (len(s))\n",
    "ordered=list(s)\n",
    "ordered.sort()"
   ]
  },
  {
   "cell_type": "code",
   "execution_count": null,
   "metadata": {
    "id": "h-o1yO5_VeZq"
   },
   "outputs": [],
   "source": [
    "ordered2=set()\n",
    "for i in ordered:\n",
    "    if not (is_number(i)):\n",
    "        ordered2.add(i)\n",
    "    \n"
   ]
  },
  {
   "cell_type": "code",
   "execution_count": null,
   "metadata": {
    "colab": {
     "base_uri": "https://localhost:8080/"
    },
    "id": "zsQOK5Mua4Ob",
    "outputId": "80a58d9f-eab8-448d-c6d0-3c425ce5eca6"
   },
   "outputs": [],
   "source": [
    "ordered2"
   ]
  },
  {
   "cell_type": "code",
   "execution_count": null,
   "metadata": {
    "id": "EseYDR2MYJXL"
   },
   "outputs": [],
   "source": [
    "word_list=list(ordered2)"
   ]
  },
  {
   "cell_type": "code",
   "execution_count": null,
   "metadata": {
    "id": "i-lkunj7VuOL"
   },
   "outputs": [],
   "source": [
    "word_list.sort()"
   ]
  },
  {
   "cell_type": "code",
   "execution_count": null,
   "metadata": {
    "id": "AoxaxEZmbeWP"
   },
   "outputs": [],
   "source": []
  },
  {
   "cell_type": "code",
   "execution_count": null,
   "metadata": {
    "colab": {
     "base_uri": "https://localhost:8080/"
    },
    "id": "Yi9MDCpq6bJv",
    "outputId": "1d24af5f-db20-4baf-b2f1-5cc0fa01383d"
   },
   "outputs": [],
   "source": [
    "print(word_list)"
   ]
  },
  {
   "cell_type": "code",
   "execution_count": null,
   "metadata": {
    "id": "IIoSRwse2GOY"
   },
   "outputs": [],
   "source": [
    "word_dict={v:i+1 for i,v in enumerate(word_list)}"
   ]
  },
  {
   "cell_type": "code",
   "execution_count": null,
   "metadata": {
    "colab": {
     "base_uri": "https://localhost:8080/",
     "height": 206
    },
    "id": "9Hx93h2XrzfL",
    "outputId": "f726884c-95bf-4447-c466-f70d81c8b606"
   },
   "outputs": [],
   "source": [
    "df_test.head()"
   ]
  },
  {
   "cell_type": "code",
   "execution_count": null,
   "metadata": {
    "id": "vLY9Hzahiz_o"
   },
   "outputs": [],
   "source": [
    "def words_to_number(df2,word_dict):\n",
    "    all_sent=[]\n",
    "    for sentence in df2.content:\n",
    "        sent_list=sentence.strip().split()\n",
    "        out=[]\n",
    "        for word in sent_list:\n",
    "            #print(word)\n",
    "            if word.lower() in word_dict:\n",
    "                out.append(word_dict[word.lower()]) \n",
    "        all_sent.append(out)\n",
    "    return(all_sent)"
   ]
  },
  {
   "cell_type": "code",
   "execution_count": null,
   "metadata": {
    "id": "QlqGS0RTua2Y"
   },
   "outputs": [],
   "source": [
    "df_test_sent=words_to_number(df_test,word_dict)\n",
    "df_test[\"Words_in_Numbers\"]=df_test_sent\n",
    "\n",
    "df_train_sent=words_to_number(df_train,word_dict)\n",
    "df_train[\"Words_in_Numbers\"]=df_train_sent\n",
    "\n"
   ]
  },
  {
   "cell_type": "code",
   "execution_count": null,
   "metadata": {
    "id": "aFiCC208ZgxJ"
   },
   "outputs": [],
   "source": [
    "df_test.to_csv(\"test_200.csv\")"
   ]
  },
  {
   "cell_type": "code",
   "execution_count": null,
   "metadata": {
    "id": "iS3-t17yZy6Q"
   },
   "outputs": [],
   "source": [
    "df_train.to_csv(\"train_200.csv\")"
   ]
  },
  {
   "cell_type": "code",
   "execution_count": null,
   "metadata": {
    "colab": {
     "base_uri": "https://localhost:8080/",
     "height": 206
    },
    "id": "qBfIDKGjuyQc",
    "outputId": "8ade56ad-9115-466f-db40-36d088c1b18f"
   },
   "outputs": [],
   "source": [
    "df_train.head()"
   ]
  },
  {
   "cell_type": "markdown",
   "metadata": {
    "id": "0RCD1OKy7kJr"
   },
   "source": [
    "###---------------------------------\n"
   ]
  },
  {
   "cell_type": "markdown",
   "metadata": {
    "id": "YdZa4d2H7nO8"
   },
   "source": [
    "###Adatbetöltés SZAVAK BETÖLTÉSE"
   ]
  },
  {
   "cell_type": "markdown",
   "metadata": {
    "id": "zqnFYKaeCkda"
   },
   "source": [
    "### adatbetöltés mondatok betöltése"
   ]
  },
  {
   "cell_type": "code",
   "execution_count": 2,
   "metadata": {
    "id": "t8zcn0gafG-W"
   },
   "outputs": [],
   "source": [
    "import pandas as pd"
   ]
  },
  {
   "cell_type": "code",
   "execution_count": 3,
   "metadata": {
    "colab": {
     "base_uri": "https://localhost:8080/"
    },
    "id": "fsQObqfegZ7M",
    "outputId": "d0dea596-8209-4383-8f49-4d617712ae1c"
   },
   "outputs": [
    {
     "name": "stdout",
     "output_type": "stream",
     "text": [
      "--2021-12-26 15:49:30--  https://github.com/sipocz/Swahili-News-Classification/raw/488a073a9bf90fa51bda996a05daab3fab04d876/orig/train_200.csv\n",
      "github.com (github.com) feloldása… 140.82.121.3\n",
      "Csatlakozás a következőhöz: github.com (github.com)[140.82.121.3]:443… kapcsolódva.\n",
      "HTTP kérés elküldve, várakozás válaszra… 302 Found\n",
      "Hely: https://raw.githubusercontent.com/sipocz/Swahili-News-Classification/488a073a9bf90fa51bda996a05daab3fab04d876/orig/train_200.csv [következik]\n",
      "--2021-12-26 15:49:31--  https://raw.githubusercontent.com/sipocz/Swahili-News-Classification/488a073a9bf90fa51bda996a05daab3fab04d876/orig/train_200.csv\n",
      "raw.githubusercontent.com (raw.githubusercontent.com) feloldása… 185.199.109.133, 185.199.110.133, 185.199.111.133, ...\n",
      "Csatlakozás a következőhöz: raw.githubusercontent.com (raw.githubusercontent.com)[185.199.109.133]:443… kapcsolódva.\n",
      "HTTP kérés elküldve, várakozás válaszra… 200 OK\n",
      "Hossz: 20989357 (20M) [text/plain]\n",
      "Mentés ide: „train_200.csv”\n",
      "\n",
      "train_200.csv       100%[===================>]  20,02M  10,7MB/s    idő 1,9s   \n",
      "\n",
      "2021-12-26 15:49:34 (10,7 MB/s) -- „train_200.csv” mentve [20989357/20989357]\n",
      "\n",
      "--2021-12-26 15:49:34--  https://github.com/sipocz/Swahili-News-Classification/raw/488a073a9bf90fa51bda996a05daab3fab04d876/orig/test_200.csv\n",
      "github.com (github.com) feloldása… 140.82.121.3\n",
      "Csatlakozás a következőhöz: github.com (github.com)[140.82.121.3]:443… kapcsolódva.\n",
      "HTTP kérés elküldve, várakozás válaszra… 302 Found\n",
      "Hely: https://raw.githubusercontent.com/sipocz/Swahili-News-Classification/488a073a9bf90fa51bda996a05daab3fab04d876/orig/test_200.csv [következik]\n",
      "--2021-12-26 15:49:34--  https://raw.githubusercontent.com/sipocz/Swahili-News-Classification/488a073a9bf90fa51bda996a05daab3fab04d876/orig/test_200.csv\n",
      "raw.githubusercontent.com (raw.githubusercontent.com) feloldása… 185.199.109.133, 185.199.110.133, 185.199.111.133, ...\n",
      "Csatlakozás a következőhöz: raw.githubusercontent.com (raw.githubusercontent.com)[185.199.109.133]:443… kapcsolódva.\n",
      "HTTP kérés elküldve, várakozás válaszra… 200 OK\n",
      "Hossz: 5293634 (5,0M) [text/plain]\n",
      "Mentés ide: „test_200.csv”\n",
      "\n",
      "test_200.csv        100%[===================>]   5,05M  9,38MB/s    idő 0,5s   \n",
      "\n",
      "2021-12-26 15:49:35 (9,38 MB/s) -- „test_200.csv” mentve [5293634/5293634]\n",
      "\n"
     ]
    }
   ],
   "source": [
    "!rm *200*\n",
    "!wget \"https://github.com/sipocz/Swahili-News-Classification/raw/488a073a9bf90fa51bda996a05daab3fab04d876/orig/train_200.csv\"\n",
    "!wget \"https://github.com/sipocz/Swahili-News-Classification/raw/488a073a9bf90fa51bda996a05daab3fab04d876/orig/test_200.csv\""
   ]
  },
  {
   "cell_type": "code",
   "execution_count": 4,
   "metadata": {
    "id": "LshFLrqKMVuR"
   },
   "outputs": [],
   "source": [
    "df_train=pd.read_csv(\"train_200.csv\")\n",
    "df_test=pd.read_csv(\"test_200.csv\")\n"
   ]
  },
  {
   "cell_type": "markdown",
   "metadata": {
    "id": "UhsaFzgFquK1"
   },
   "source": [
    "### \\\\\\\\\\\\\\\\\\\\\\\\\\\\\\\\\\\\\\\\\\\\\\\\\\\\\\\\\\\\\\\\\\\\\\\\\\\\\\\\\\\\\n"
   ]
  },
  {
   "cell_type": "code",
   "execution_count": 5,
   "metadata": {
    "id": "x3HJcQ35MWAn"
   },
   "outputs": [],
   "source": [
    "import pandas as pd"
   ]
  },
  {
   "cell_type": "markdown",
   "metadata": {
    "id": "XomafEhUMWAp"
   },
   "source": [
    "### adatbetöltés mondatok betöltése"
   ]
  },
  {
   "cell_type": "code",
   "execution_count": null,
   "metadata": {
    "id": "9w60OcdVMWAp"
   },
   "outputs": [],
   "source": []
  },
  {
   "cell_type": "markdown",
   "metadata": {
    "id": "oqbe8kFxgJav"
   },
   "source": [
    "##Tanulás"
   ]
  },
  {
   "cell_type": "code",
   "execution_count": 6,
   "metadata": {
    "colab": {
     "base_uri": "https://localhost:8080/",
     "height": 206
    },
    "id": "e-_C5UdDMpyH",
    "outputId": "b6af6611-b763-4c28-8843-f40c276f3942"
   },
   "outputs": [
    {
     "data": {
      "text/html": [
       "<div>\n",
       "<style scoped>\n",
       "    .dataframe tbody tr th:only-of-type {\n",
       "        vertical-align: middle;\n",
       "    }\n",
       "\n",
       "    .dataframe tbody tr th {\n",
       "        vertical-align: top;\n",
       "    }\n",
       "\n",
       "    .dataframe thead th {\n",
       "        text-align: right;\n",
       "    }\n",
       "</style>\n",
       "<table border=\"1\" class=\"dataframe\">\n",
       "  <thead>\n",
       "    <tr style=\"text-align: right;\">\n",
       "      <th></th>\n",
       "      <th>Unnamed: 0</th>\n",
       "      <th>id</th>\n",
       "      <th>content</th>\n",
       "      <th>category</th>\n",
       "      <th>Words_in_Numbers</th>\n",
       "    </tr>\n",
       "  </thead>\n",
       "  <tbody>\n",
       "    <tr>\n",
       "      <th>0</th>\n",
       "      <td>0</td>\n",
       "      <td>SW0</td>\n",
       "      <td>SERIKALI imesema haitakuwa tayari kuona amani...</td>\n",
       "      <td>Kitaifa</td>\n",
       "      <td>[54873, 22649, 15339, 56835, 35030, 4733, 4855...</td>\n",
       "    </tr>\n",
       "    <tr>\n",
       "      <th>1</th>\n",
       "      <td>1</td>\n",
       "      <td>SW1</td>\n",
       "      <td>Mkuu wa Mkoa wa Tabora, Aggrey Mwanri amesiti...</td>\n",
       "      <td>Biashara</td>\n",
       "      <td>[45737, 67058, 45628, 67058, 513, 48216, 5584,...</td>\n",
       "    </tr>\n",
       "    <tr>\n",
       "      <th>2</th>\n",
       "      <td>2</td>\n",
       "      <td>SW10</td>\n",
       "      <td>SERIKALI imetoa miezi sita kwa taasisi zote z...</td>\n",
       "      <td>Kitaifa</td>\n",
       "      <td>[54873, 22851, 44874, 55662, 38136, 56447, 828...</td>\n",
       "    </tr>\n",
       "    <tr>\n",
       "      <th>3</th>\n",
       "      <td>3</td>\n",
       "      <td>SW100</td>\n",
       "      <td>KAMPUNI ya mchezo wa kubahatisha ya M-bet ime...</td>\n",
       "      <td>michezo</td>\n",
       "      <td>[27537, 76704, 44199, 67058, 31772, 76704, 222...</td>\n",
       "    </tr>\n",
       "    <tr>\n",
       "      <th>4</th>\n",
       "      <td>4</td>\n",
       "      <td>SW1000</td>\n",
       "      <td>WATANZANIA wamekumbushwa kusherehekea sikukuu...</td>\n",
       "      <td>Kitaifa</td>\n",
       "      <td>[75630, 71315, 35507, 55453, 76704, 31583, 381...</td>\n",
       "    </tr>\n",
       "  </tbody>\n",
       "</table>\n",
       "</div>"
      ],
      "text/plain": [
       "   Unnamed: 0      id                                            content  \\\n",
       "0           0     SW0   SERIKALI imesema haitakuwa tayari kuona amani...   \n",
       "1           1     SW1   Mkuu wa Mkoa wa Tabora, Aggrey Mwanri amesiti...   \n",
       "2           2    SW10   SERIKALI imetoa miezi sita kwa taasisi zote z...   \n",
       "3           3   SW100   KAMPUNI ya mchezo wa kubahatisha ya M-bet ime...   \n",
       "4           4  SW1000   WATANZANIA wamekumbushwa kusherehekea sikukuu...   \n",
       "\n",
       "   category                                   Words_in_Numbers  \n",
       "0   Kitaifa  [54873, 22649, 15339, 56835, 35030, 4733, 4855...  \n",
       "1  Biashara  [45737, 67058, 45628, 67058, 513, 48216, 5584,...  \n",
       "2   Kitaifa  [54873, 22851, 44874, 55662, 38136, 56447, 828...  \n",
       "3   michezo  [27537, 76704, 44199, 67058, 31772, 76704, 222...  \n",
       "4   Kitaifa  [75630, 71315, 35507, 55453, 76704, 31583, 381...  "
      ]
     },
     "execution_count": 6,
     "metadata": {},
     "output_type": "execute_result"
    }
   ],
   "source": [
    "df_train.head()"
   ]
  },
  {
   "cell_type": "code",
   "execution_count": 7,
   "metadata": {
    "id": "wGBReaGM6-zn"
   },
   "outputs": [],
   "source": [
    "def ylabel_convert(sentiment):\n",
    "    ytrain=[]\n",
    "    for sent in sentiment:\n",
    "        if sent==\"negative\":\n",
    "            o=[1,0]\n",
    "        if sent==\"neutral\":\n",
    "            o=[0.5,0.5]\n",
    "        if sent==\"positive\":\n",
    "            o=[0,1]\n",
    "        ytrain.append(o)\n",
    "    return(ytrain)\n",
    "\n",
    "def ylabel_convert3(sentiment):\n",
    "    ytrain=[]\n",
    "    for sent in sentiment:\n",
    "        if sent.lower()==\"kitaifa\":\n",
    "            o=[1,0,0,0,0]\n",
    "        elif sent.lower()==\"michezo\":\n",
    "            o=[0,1,0,0,0]\n",
    "        elif sent.lower()==\"biashara\":\n",
    "            o=[0,0,1,0,0]\n",
    "        elif sent.lower()==\"kamataifa\":\n",
    "            o=[0,0,0,1,0]\n",
    "        elif sent.lower()==\"burudani\":\n",
    "            o=[0,0,0,0,1]\n",
    "               \n",
    "              \n",
    "        ytrain.append(o)\n",
    "    return(ytrain)\n",
    "\n",
    "        "
   ]
  },
  {
   "cell_type": "code",
   "execution_count": 8,
   "metadata": {
    "id": "4QGQRyHcwtC6"
   },
   "outputs": [],
   "source": [
    "sentiment=list(df_train.category)\n",
    "ytrain=ylabel_convert3(sentiment)"
   ]
  },
  {
   "cell_type": "code",
   "execution_count": 9,
   "metadata": {
    "id": "5LXoUuB_tZDc"
   },
   "outputs": [],
   "source": [
    "def str_2_numlist(strin):\n",
    "    x=strin[1:-1]\n",
    "    x=x.split(\",\")\n",
    "    try:\n",
    "        o=[float(i) for i in x]\n",
    "    except:\n",
    "        print(x)\n",
    "    return(o)\n",
    "    \n"
   ]
  },
  {
   "cell_type": "code",
   "execution_count": 10,
   "metadata": {
    "colab": {
     "base_uri": "https://localhost:8080/"
    },
    "id": "E2UjgMZztoPH",
    "outputId": "db6d6bc9-891f-4d8d-d8bf-4a8feb175c16"
   },
   "outputs": [
    {
     "data": {
      "text/plain": [
       "[123.0, 23.0, 433.0, 5423.0, 123.0, 12312.0, 123.0, 35432.0]"
      ]
     },
     "execution_count": 10,
     "metadata": {},
     "output_type": "execute_result"
    }
   ],
   "source": [
    "str_2_numlist(\"[123,23, 433,5423, 123, 12312, 123 ,35432]\")"
   ]
  },
  {
   "cell_type": "code",
   "execution_count": 11,
   "metadata": {
    "id": "TNi-g2CNARwY"
   },
   "outputs": [],
   "source": [
    "def create_x(l1,maxword=200):\n",
    "    '''\n",
    "    \n",
    "    list jön be, ami stringeket tartlamaz\n",
    "    ebből kell listákat tartalmazó listát készíteni :-)\n",
    "    \n",
    "    '''\n",
    "    def str_2_numlist(strin):\n",
    "        \n",
    "        x=strin[1:-1]\n",
    "        x=x.split(\",\")\n",
    "        try:\n",
    "            o=[float(i) for i in x]\n",
    "        except:\n",
    "            o=[0]\n",
    "        return(o)\n",
    "    table=[]\n",
    "    for sent in l1:\n",
    "        sent_float=str_2_numlist(sent)\n",
    "        table.append(sent_float)\n",
    "\n",
    "\n",
    "    x0=[0 for _ in range(maxword)]\n",
    "    xx=[]\n",
    "    for sent in table:\n",
    "        if len(sent)<maxword:\n",
    "            o1=x0[0:maxword-len(sent)]+sent\n",
    "        else:\n",
    "            o1=sent[0:maxword]\n",
    "        #print(o1)\n",
    "        xx.append(o1)\n",
    "    return(xx)"
   ]
  },
  {
   "cell_type": "code",
   "execution_count": 12,
   "metadata": {
    "colab": {
     "base_uri": "https://localhost:8080/"
    },
    "id": "8AsROcV7iVGI",
    "outputId": "30e98e0f-b96a-43af-a8ce-c80ff7373bdb"
   },
   "outputs": [
    {
     "data": {
      "text/plain": [
       "345.0"
      ]
     },
     "execution_count": 12,
     "metadata": {},
     "output_type": "execute_result"
    }
   ],
   "source": [
    "float(\" 345\")"
   ]
  },
  {
   "cell_type": "code",
   "execution_count": 13,
   "metadata": {
    "colab": {
     "base_uri": "https://localhost:8080/"
    },
    "id": "tRf3_wt9Bekb",
    "outputId": "6564d2da-4909-4484-f5d6-0885ab6fc87a"
   },
   "outputs": [],
   "source": [
    "__MAXWORD__=400\n",
    "df_word_list=list(df_train.Words_in_Numbers)\n",
    "xtrain=create_x(df_word_list,maxword=__MAXWORD__)"
   ]
  },
  {
   "cell_type": "code",
   "execution_count": 14,
   "metadata": {
    "id": "1UwmBdEkijzv"
   },
   "outputs": [
    {
     "data": {
      "text/plain": [
       "400"
      ]
     },
     "execution_count": 14,
     "metadata": {},
     "output_type": "execute_result"
    }
   ],
   "source": [
    "len(xtrain[11])"
   ]
  },
  {
   "cell_type": "code",
   "execution_count": null,
   "metadata": {
    "id": "4O-DzroLiWjk"
   },
   "outputs": [],
   "source": []
  },
  {
   "cell_type": "code",
   "execution_count": null,
   "metadata": {
    "id": "3JEpjcQSBWtx"
   },
   "outputs": [],
   "source": []
  },
  {
   "cell_type": "code",
   "execution_count": 15,
   "metadata": {
    "id": "WZSj92FGOebc"
   },
   "outputs": [],
   "source": [
    "x_train=xtrain[0:]\n",
    "y_train=ytrain[0:]\n",
    "x_valid=xtrain[0:]\n",
    "y_valid=ytrain[0:]"
   ]
  },
  {
   "cell_type": "code",
   "execution_count": 16,
   "metadata": {
    "id": "59MTn_Fs3SvW"
   },
   "outputs": [],
   "source": [
    "lstm_size=300\n",
    "max_input_length=__MAXWORD__\n",
    "embedding_size=50 #(100: 73%)\n",
    "n_words=85795\n",
    "n_out=len(y_train[0])"
   ]
  },
  {
   "cell_type": "code",
   "execution_count": 17,
   "metadata": {
    "colab": {
     "base_uri": "https://localhost:8080/"
    },
    "id": "BS2bWgXsz2zc",
    "outputId": "08ed5b4e-95f7-4cc3-ce3a-a4f178153de3"
   },
   "outputs": [
    {
     "name": "stdout",
     "output_type": "stream",
     "text": [
      "85795\n"
     ]
    },
    {
     "data": {
      "text/plain": [
       "5"
      ]
     },
     "execution_count": 17,
     "metadata": {},
     "output_type": "execute_result"
    }
   ],
   "source": [
    "print(n_words)\n",
    "#print(lens1)\n",
    "n_out"
   ]
  },
  {
   "cell_type": "code",
   "execution_count": 65,
   "metadata": {
    "id": "26U6UXRhmSUE"
   },
   "outputs": [],
   "source": [
    "!rm *.hdf5"
   ]
  },
  {
   "cell_type": "code",
   "execution_count": 66,
   "metadata": {
    "id": "uvvPuVNSxNa7"
   },
   "outputs": [],
   "source": [
    "# Importáld a megfelelő rétegeket\n",
    "from tensorflow.keras.layers import Input,Dense,Embedding,LSTM,TimeDistributed, Flatten, Bidirectional, Conv1D, MaxPooling1D, Dropout\n",
    "from tensorflow.keras.models import Model\n",
    "from tensorflow.keras.optimizers import Adadelta,Adam,SGD,Adamax\n",
    "from tensorflow.keras.losses import sparse_categorical_crossentropy,categorical_crossentropy, mean_squared_error\n",
    "from tensorflow.keras import backend as K\n",
    "\n",
    "K.clear_session\n",
    "x= Input(shape=(max_input_length,))\n",
    "embedded_x=Embedding(n_words,embedding_size, input_length=max_input_length-1, mask_zero=True)(x)\n",
    "#conv1=Conv1D(filters=8, kernel_size=2, padding='same', activation='relu')(embedded_x)\n",
    "#MP=MaxPooling1D(pool_size=1)(conv1)\n",
    "lstm_output= LSTM(lstm_size,return_sequences=True,dropout=0.4)(embedded_x)\n",
    "lstm_output= LSTM(lstm_size,return_sequences=True,dropout=0.4)(lstm_output)\n",
    "#lstm_output= LSTM(lstm_size,return_sequences=True,dropout=0.2)(lstm_output)\n",
    "#lstm_output= LSTM(lstm_size,return_sequences=True,dropout=0.2)(lstm_output)\n",
    "\n",
    "\n",
    "lstm_output=Dropout(0.4)(lstm_output)\n",
    "\n",
    "lstm_output=Flatten()(lstm_output)\n",
    "Dense_out= Dense(50, activation=\"sigmoid\",kernel_initializer=\"HeNormal\")(lstm_output)\n",
    "\n",
    "predictions= Dense(n_out, activation=\"softmax\")(Dense_out)\n",
    "model=Model(inputs=x, outputs=predictions)\n",
    "\n"
   ]
  },
  {
   "cell_type": "code",
   "execution_count": 67,
   "metadata": {
    "colab": {
     "base_uri": "https://localhost:8080/"
    },
    "id": "NQpADS6gMHmd",
    "outputId": "eef4e856-e09e-4ecd-d160-f22cc05aab10"
   },
   "outputs": [
    {
     "name": "stdout",
     "output_type": "stream",
     "text": [
      "Model: \"model_3\"\n",
      "_________________________________________________________________\n",
      "Layer (type)                 Output Shape              Param #   \n",
      "=================================================================\n",
      "input_5 (InputLayer)         [(None, 400)]             0         \n",
      "_________________________________________________________________\n",
      "embedding_4 (Embedding)      (None, 400, 50)           4289750   \n",
      "_________________________________________________________________\n",
      "lstm_10 (LSTM)               (None, 400, 300)          421200    \n",
      "_________________________________________________________________\n",
      "lstm_11 (LSTM)               (None, 400, 300)          721200    \n",
      "_________________________________________________________________\n",
      "dropout_4 (Dropout)          (None, 400, 300)          0         \n",
      "_________________________________________________________________\n",
      "flatten_4 (Flatten)          (None, 120000)            0         \n",
      "_________________________________________________________________\n",
      "dense_8 (Dense)              (None, 50)                6000050   \n",
      "_________________________________________________________________\n",
      "dense_9 (Dense)              (None, 5)                 255       \n",
      "=================================================================\n",
      "Total params: 11,432,455\n",
      "Trainable params: 11,432,455\n",
      "Non-trainable params: 0\n",
      "_________________________________________________________________\n"
     ]
    }
   ],
   "source": [
    "model.summary()"
   ]
  },
  {
   "cell_type": "code",
   "execution_count": 68,
   "metadata": {
    "id": "SzJYM8QeJyvI"
   },
   "outputs": [],
   "source": [
    "import numpy as np"
   ]
  },
  {
   "cell_type": "code",
   "execution_count": 69,
   "metadata": {
    "id": "ACrVf-TbJYDe"
   },
   "outputs": [],
   "source": [
    "#train_x = np.asarray(xtrain)\n",
    "#train_y = np.asarray(ytrain)"
   ]
  },
  {
   "cell_type": "code",
   "execution_count": null,
   "metadata": {
    "id": "Lj_fAh_eKaSl"
   },
   "outputs": [],
   "source": []
  },
  {
   "cell_type": "code",
   "execution_count": 70,
   "metadata": {
    "id": "RWIM4DP36S2L"
   },
   "outputs": [],
   "source": [
    "# Loss \n",
    "\n",
    "loss =categorical_crossentropy #mean_squared_error #categorical_crossentropy # One-hot enkódolt kimenetünk van. Mit is használunk?\n",
    "\n",
    "# Optimizer\n",
    "optimizer = Adamax(learning_rate=0.01) #Ízlés szerint...\n",
    " \n",
    "# Compilation\n",
    "#############\n",
    "\n",
    "model.compile(optimizer=optimizer,loss=loss,metrics=[\"Accuracy\"])"
   ]
  },
  {
   "cell_type": "code",
   "execution_count": 71,
   "metadata": {
    "colab": {
     "base_uri": "https://localhost:8080/"
    },
    "id": "SR6R8f9FgQiA",
    "outputId": "ae02ae8f-461d-415b-fe88-25fd19757596"
   },
   "outputs": [
    {
     "data": {
      "text/plain": [
       "'\\nfor i in x_train:\\n    print (len(i),end=\"--\")\\n'"
      ]
     },
     "execution_count": 71,
     "metadata": {},
     "output_type": "execute_result"
    }
   ],
   "source": [
    "'''\n",
    "for i in x_train:\n",
    "    print (len(i),end=\"--\")\n",
    "'''"
   ]
  },
  {
   "cell_type": "code",
   "execution_count": 72,
   "metadata": {
    "colab": {
     "base_uri": "https://localhost:8080/"
    },
    "id": "st2F_x9FuMEW",
    "outputId": "7772b222-c213-4fb8-dc19-d29a5fe8c8b2"
   },
   "outputs": [
    {
     "data": {
      "text/plain": [
       "5151"
      ]
     },
     "execution_count": 72,
     "metadata": {},
     "output_type": "execute_result"
    }
   ],
   "source": [
    "len(y_train)"
   ]
  },
  {
   "cell_type": "code",
   "execution_count": 77,
   "metadata": {
    "id": "7J2K6EXIgYQG"
   },
   "outputs": [],
   "source": [
    "import tensorflow as tf\n",
    "from tensorflow.keras.callbacks import ModelCheckpoint\n",
    "model_name=\"Swahili_2_layer_LSTM\"\n",
    "def scheduler(epoch, lr):\n",
    "       #return 0.00003\n",
    "        \n",
    "    maxx=0.00001\n",
    "    minn=0.001\n",
    "    frekvency=3\n",
    "    o=(epoch % frekvency)/frekvency * (maxx-minn)+minn\n",
    "    print(f\"LR:{o}\")\n",
    "    return o\n",
    "\n",
    "        \n",
    "    if epoch<50:\n",
    "        return 0.001\n",
    "    elif epoch <100:\n",
    "        return 0.001\n",
    "    elif epoch <1200:\n",
    "        return 0.0001\n",
    "    return 0.001\n",
    "    \n",
    "callback_LR = tf.keras.callbacks.LearningRateScheduler(scheduler)\n",
    "\n",
    "callbacks = [callback_LR,\n",
    "            \n",
    "            #savemodela,\n",
    "            ModelCheckpoint(filepath=model_name+\"_{loss:.5f}_{Accuracy:.5f}.hdf5\", monitor='loss',\n",
    "                            verbose=1, save_best_only=True, mode='min')]"
   ]
  },
  {
   "cell_type": "raw",
   "metadata": {},
   "source": []
  },
  {
   "cell_type": "code",
   "execution_count": null,
   "metadata": {
    "colab": {
     "base_uri": "https://localhost:8080/"
    },
    "id": "op-I834SFpUX",
    "outputId": "9faf16bc-eeea-4aab-a521-107508062acd"
   },
   "outputs": [
    {
     "name": "stdout",
     "output_type": "stream",
     "text": [
      "Epoch 1/420\n",
      "LR:0.001\n",
      "161/161 [==============================] - 110s 680ms/step - loss: 1.0653 - Accuracy: 0.4574\n",
      "\n",
      "Epoch 00001: loss improved from inf to 1.06534, saving model to Swahili_2_layer_LSTM_1.06534_0.45739.hdf5\n",
      "Epoch 2/420\n",
      "LR:0.00067\n",
      "161/161 [==============================] - 109s 679ms/step - loss: 1.1503 - Accuracy: 0.4589\n",
      "\n",
      "Epoch 00002: loss did not improve from 1.06534\n",
      "Epoch 3/420\n",
      "LR:0.00034\n",
      "161/161 [==============================] - 109s 678ms/step - loss: 1.0725 - Accuracy: 0.4673\n",
      "\n",
      "Epoch 00003: loss did not improve from 1.06534\n",
      "Epoch 4/420\n",
      "LR:0.001\n",
      "161/161 [==============================] - 109s 679ms/step - loss: 1.0565 - Accuracy: 0.4617\n",
      "\n",
      "Epoch 00004: loss improved from 1.06534 to 1.05646, saving model to Swahili_2_layer_LSTM_1.05646_0.46166.hdf5\n",
      "Epoch 5/420\n",
      "LR:0.00067\n",
      "161/161 [==============================] - 109s 679ms/step - loss: 1.0441 - Accuracy: 0.4708\n",
      "\n",
      "Epoch 00005: loss improved from 1.05646 to 1.04412, saving model to Swahili_2_layer_LSTM_1.04412_0.47078.hdf5\n",
      "Epoch 6/420\n",
      "LR:0.00034\n",
      "161/161 [==============================] - 109s 678ms/step - loss: 1.0328 - Accuracy: 0.4782\n",
      "\n",
      "Epoch 00006: loss improved from 1.04412 to 1.03282, saving model to Swahili_2_layer_LSTM_1.03282_0.47816.hdf5\n",
      "Epoch 7/420\n",
      "LR:0.001\n",
      "161/161 [==============================] - 109s 679ms/step - loss: 1.0241 - Accuracy: 0.4836\n",
      "\n",
      "Epoch 00007: loss improved from 1.03282 to 1.02407, saving model to Swahili_2_layer_LSTM_1.02407_0.48360.hdf5\n",
      "Epoch 8/420\n",
      "LR:0.00067\n",
      "161/161 [==============================] - 109s 679ms/step - loss: 1.0089 - Accuracy: 0.4958\n",
      "\n",
      "Epoch 00008: loss improved from 1.02407 to 1.00893, saving model to Swahili_2_layer_LSTM_1.00893_0.49583.hdf5\n",
      "Epoch 9/420\n",
      "LR:0.00034\n",
      "161/161 [==============================] - 109s 678ms/step - loss: 0.9948 - Accuracy: 0.5090\n",
      "\n",
      "Epoch 00009: loss improved from 1.00893 to 0.99481, saving model to Swahili_2_layer_LSTM_0.99481_0.50903.hdf5\n",
      "Epoch 10/420\n",
      "LR:0.001\n",
      "161/161 [==============================] - 109s 680ms/step - loss: 0.9812 - Accuracy: 0.5240\n",
      "\n",
      "Epoch 00010: loss improved from 0.99481 to 0.98121, saving model to Swahili_2_layer_LSTM_0.98121_0.52398.hdf5\n",
      "Epoch 11/420\n",
      "LR:0.00067\n",
      "161/161 [==============================] - 109s 680ms/step - loss: 0.8615 - Accuracy: 0.6146\n",
      "\n",
      "Epoch 00011: loss improved from 0.98121 to 0.86150, saving model to Swahili_2_layer_LSTM_0.86150_0.61464.hdf5\n",
      "Epoch 12/420\n",
      "LR:0.00034\n",
      "161/161 [==============================] - 110s 681ms/step - loss: 0.6226 - Accuracy: 0.7468\n",
      "\n",
      "Epoch 00012: loss improved from 0.86150 to 0.62263, saving model to Swahili_2_layer_LSTM_0.62263_0.74685.hdf5\n",
      "Epoch 13/420\n",
      "LR:0.001\n",
      "161/161 [==============================] - 109s 680ms/step - loss: 0.5557 - Accuracy: 0.7762\n",
      "\n",
      "Epoch 00013: loss improved from 0.62263 to 0.55575, saving model to Swahili_2_layer_LSTM_0.55575_0.77616.hdf5\n",
      "Epoch 14/420\n",
      "LR:0.00067\n",
      "161/161 [==============================] - 110s 683ms/step - loss: 0.4754 - Accuracy: 0.8187\n",
      "\n",
      "Epoch 00014: loss improved from 0.55575 to 0.47536, saving model to Swahili_2_layer_LSTM_0.47536_0.81868.hdf5\n",
      "Epoch 15/420\n",
      "LR:0.00034\n",
      "161/161 [==============================] - 109s 680ms/step - loss: 0.4155 - Accuracy: 0.8431\n",
      "\n",
      "Epoch 00015: loss improved from 0.47536 to 0.41548, saving model to Swahili_2_layer_LSTM_0.41548_0.84314.hdf5\n",
      "Epoch 16/420\n",
      "LR:0.001\n",
      "161/161 [==============================] - 109s 679ms/step - loss: 0.4073 - Accuracy: 0.8490\n",
      "\n",
      "Epoch 00016: loss improved from 0.41548 to 0.40728, saving model to Swahili_2_layer_LSTM_0.40728_0.84896.hdf5\n",
      "Epoch 17/420\n",
      "LR:0.00067\n",
      "161/161 [==============================] - 110s 682ms/step - loss: 0.3619 - Accuracy: 0.8695\n",
      "\n",
      "Epoch 00017: loss improved from 0.40728 to 0.36193, saving model to Swahili_2_layer_LSTM_0.36193_0.86954.hdf5\n",
      "Epoch 18/420\n",
      "LR:0.00034\n",
      "161/161 [==============================] - 110s 682ms/step - loss: 0.3094 - Accuracy: 0.8961\n",
      "\n",
      "Epoch 00018: loss improved from 0.36193 to 0.30942, saving model to Swahili_2_layer_LSTM_0.30942_0.89614.hdf5\n",
      "Epoch 19/420\n",
      "LR:0.001\n",
      "161/161 [==============================] - 110s 682ms/step - loss: 0.3379 - Accuracy: 0.8794\n",
      "\n",
      "Epoch 00019: loss did not improve from 0.30942\n",
      "Epoch 20/420\n",
      "LR:0.00067\n",
      "161/161 [==============================] - 110s 681ms/step - loss: 0.2889 - Accuracy: 0.8998\n",
      "\n",
      "Epoch 00020: loss improved from 0.30942 to 0.28887, saving model to Swahili_2_layer_LSTM_0.28887_0.89983.hdf5\n",
      "Epoch 21/420\n",
      "LR:0.00034\n",
      "161/161 [==============================] - 110s 681ms/step - loss: 0.2500 - Accuracy: 0.9206\n",
      "\n",
      "Epoch 00021: loss improved from 0.28887 to 0.25002, saving model to Swahili_2_layer_LSTM_0.25002_0.92060.hdf5\n",
      "Epoch 22/420\n",
      "LR:0.001\n",
      "161/161 [==============================] - 110s 681ms/step - loss: 0.2690 - Accuracy: 0.9093\n",
      "\n",
      "Epoch 00022: loss did not improve from 0.25002\n",
      "Epoch 23/420\n",
      "LR:0.00067\n",
      "161/161 [==============================] - 110s 681ms/step - loss: 0.2287 - Accuracy: 0.9260\n",
      "\n",
      "Epoch 00023: loss improved from 0.25002 to 0.22868, saving model to Swahili_2_layer_LSTM_0.22868_0.92603.hdf5\n",
      "Epoch 24/420\n",
      "LR:0.00034\n",
      "161/161 [==============================] - 111s 690ms/step - loss: 0.2068 - Accuracy: 0.9330\n",
      "\n",
      "Epoch 00024: loss improved from 0.22868 to 0.20678, saving model to Swahili_2_layer_LSTM_0.20678_0.93302.hdf5\n",
      "Epoch 25/420\n",
      "LR:0.001\n",
      "161/161 [==============================] - 109s 678ms/step - loss: 0.2195 - Accuracy: 0.9260\n",
      "\n",
      "Epoch 00025: loss did not improve from 0.20678\n",
      "Epoch 26/420\n",
      "LR:0.00067\n",
      "161/161 [==============================] - 110s 681ms/step - loss: 0.1862 - Accuracy: 0.9400\n",
      "\n",
      "Epoch 00026: loss improved from 0.20678 to 0.18616, saving model to Swahili_2_layer_LSTM_0.18616_0.94001.hdf5\n",
      "Epoch 27/420\n",
      "LR:0.00034\n",
      "161/161 [==============================] - 111s 691ms/step - loss: 0.1601 - Accuracy: 0.9528\n",
      "\n",
      "Epoch 00027: loss improved from 0.18616 to 0.16011, saving model to Swahili_2_layer_LSTM_0.16011_0.95282.hdf5\n",
      "Epoch 28/420\n",
      "LR:0.001\n",
      "161/161 [==============================] - 111s 687ms/step - loss: 0.1710 - Accuracy: 0.9476\n",
      "\n",
      "Epoch 00028: loss did not improve from 0.16011\n",
      "Epoch 29/420\n",
      "LR:0.00067\n",
      "161/161 [==============================] - 110s 680ms/step - loss: 0.1582 - Accuracy: 0.9561\n",
      "\n",
      "Epoch 00029: loss improved from 0.16011 to 0.15816, saving model to Swahili_2_layer_LSTM_0.15816_0.95613.hdf5\n",
      "Epoch 30/420\n",
      "LR:0.00034\n",
      " 27/161 [====>.........................] - ETA: 1:30 - loss: 0.1157 - Accuracy: 0.9688"
     ]
    }
   ],
   "source": [
    "# Illesszük az adatra a modellt\n",
    "history=model.fit(\n",
    "        x=x_train,\n",
    "        y=y_train, \n",
    "        epochs=420, \n",
    "        batch_size=32,\n",
    "                  \n",
    "        callbacks=[callbacks]          \n",
    "        )\n"
   ]
  },
  {
   "cell_type": "markdown",
   "metadata": {
    "id": "4UV9VOXARdCK"
   },
   "source": [
    "## model.save_weights(\"model1.hdf5\")"
   ]
  },
  {
   "cell_type": "code",
   "execution_count": null,
   "metadata": {
    "id": "Y_CHGgYja_bB"
   },
   "outputs": [],
   "source": [
    "pred=model.predict(x_train,)"
   ]
  },
  {
   "cell_type": "code",
   "execution_count": null,
   "metadata": {
    "id": "loCl2-qmA6SL"
   },
   "outputs": [],
   "source": [
    "def maxpos(alist):\n",
    "    temp = max(alist)\n",
    "    res = [i for i, j in enumerate(alist) if j == temp]\n",
    "    return res[0]  \n"
   ]
  },
  {
   "cell_type": "code",
   "execution_count": null,
   "metadata": {
    "id": "CIFRZ753bMNi"
   },
   "outputs": [],
   "source": [
    "def show_difference(pred,ytrain,df,verbose=False):\n",
    "    ecounter=0\n",
    "    for i in range(len(pred)):\n",
    "        predi=pred[i]\n",
    "        traini=y_train[i]\n",
    "        if maxpos(traini)!=maxpos(predi):\n",
    "            ecounter+=1\n",
    "            if verbose:\n",
    "                print(f\"{i}, {predi}, {traini}\")\n",
    "                print(f\"---Text: {df.iloc[i].text}\")\n",
    "    print(f\"Hiba szám: {ecounter:6}, arány: {ecounter/len(df)*100}% \")\n"
   ]
  },
  {
   "cell_type": "code",
   "execution_count": null,
   "metadata": {
    "id": "IWKt2DCcFbKc"
   },
   "outputs": [],
   "source": [
    "show_difference(pred,ytrain,df_train)"
   ]
  },
  {
   "cell_type": "code",
   "execution_count": null,
   "metadata": {
    "id": "x39xe3TmGHJ_"
   },
   "outputs": [],
   "source": [
    "---"
   ]
  },
  {
   "cell_type": "code",
   "execution_count": null,
   "metadata": {},
   "outputs": [],
   "source": [
    "import pandas as pd"
   ]
  },
  {
   "cell_type": "markdown",
   "metadata": {
    "id": "hlKyrRqfG6GP"
   },
   "source": [
    "### Model usage"
   ]
  },
  {
   "cell_type": "code",
   "execution_count": 48,
   "metadata": {
    "id": "vvmmKvBIF4n8"
   },
   "outputs": [],
   "source": [
    "test_df=pd.read_csv(\"test_200.csv\")"
   ]
  },
  {
   "cell_type": "code",
   "execution_count": 49,
   "metadata": {
    "id": "Mc0vyTmcHRvY"
   },
   "outputs": [
    {
     "name": "stdout",
     "output_type": "stream",
     "text": [
      "1288\n"
     ]
    }
   ],
   "source": [
    "print(len(test_df))"
   ]
  },
  {
   "cell_type": "code",
   "execution_count": 50,
   "metadata": {
    "id": "5utaqxGNHU7y"
   },
   "outputs": [
    {
     "data": {
      "text/html": [
       "<div>\n",
       "<style scoped>\n",
       "    .dataframe tbody tr th:only-of-type {\n",
       "        vertical-align: middle;\n",
       "    }\n",
       "\n",
       "    .dataframe tbody tr th {\n",
       "        vertical-align: top;\n",
       "    }\n",
       "\n",
       "    .dataframe thead th {\n",
       "        text-align: right;\n",
       "    }\n",
       "</style>\n",
       "<table border=\"1\" class=\"dataframe\">\n",
       "  <thead>\n",
       "    <tr style=\"text-align: right;\">\n",
       "      <th></th>\n",
       "      <th>Unnamed: 0</th>\n",
       "      <th>swahili_id</th>\n",
       "      <th>content</th>\n",
       "      <th>Words_in_Numbers</th>\n",
       "    </tr>\n",
       "  </thead>\n",
       "  <tbody>\n",
       "    <tr>\n",
       "      <th>0</th>\n",
       "      <td>0</td>\n",
       "      <td>001dd47ac202d9db6624a5ff734a5e7dddafeaf2</td>\n",
       "      <td>MKUU wa Wilaya ya Bahi, Mkoani Dodoma, Mwanah...</td>\n",
       "      <td>[45737, 67058, 76498, 76704, 45630, 48093, 476...</td>\n",
       "    </tr>\n",
       "    <tr>\n",
       "      <th>1</th>\n",
       "      <td>1</td>\n",
       "      <td>0043d97f7690e9bc02f0ed8bb2b260d1d44bad92</td>\n",
       "      <td>MWISHONI mwa wiki hii, Timu ya Soka ya Taifa,...</td>\n",
       "      <td>[48440, 47881, 76492, 57231, 76704, 55814, 767...</td>\n",
       "    </tr>\n",
       "    <tr>\n",
       "      <th>2</th>\n",
       "      <td>2</td>\n",
       "      <td>00579c2307b5c11003d21c40c3ecff5e922c3fd8</td>\n",
       "      <td>THAMANI ya mauzo ya bidhaa za Afrika Masharik...</td>\n",
       "      <td>[57083, 76704, 43711, 76704, 9859, 79341, 448,...</td>\n",
       "    </tr>\n",
       "    <tr>\n",
       "      <th>3</th>\n",
       "      <td>3</td>\n",
       "      <td>00868eeee349e286303706ef0ffd851f39708d37</td>\n",
       "      <td>MENEJA Mawasiliano na Utetezi wa asasi ya AGP...</td>\n",
       "      <td>[44420, 43733, 48552, 64918, 67058, 7883, 7670...</td>\n",
       "    </tr>\n",
       "    <tr>\n",
       "      <th>4</th>\n",
       "      <td>4</td>\n",
       "      <td>00a5cb12d3058dcf2e42f277eee599992db32412</td>\n",
       "      <td>WAZIRI wa Kilimo, Japhet Hasunga amesema seri...</td>\n",
       "      <td>[76288, 67058, 26623, 16381, 5477, 54873, 2338...</td>\n",
       "    </tr>\n",
       "  </tbody>\n",
       "</table>\n",
       "</div>"
      ],
      "text/plain": [
       "   Unnamed: 0                                swahili_id  \\\n",
       "0           0  001dd47ac202d9db6624a5ff734a5e7dddafeaf2   \n",
       "1           1  0043d97f7690e9bc02f0ed8bb2b260d1d44bad92   \n",
       "2           2  00579c2307b5c11003d21c40c3ecff5e922c3fd8   \n",
       "3           3  00868eeee349e286303706ef0ffd851f39708d37   \n",
       "4           4  00a5cb12d3058dcf2e42f277eee599992db32412   \n",
       "\n",
       "                                             content  \\\n",
       "0   MKUU wa Wilaya ya Bahi, Mkoani Dodoma, Mwanah...   \n",
       "1   MWISHONI mwa wiki hii, Timu ya Soka ya Taifa,...   \n",
       "2   THAMANI ya mauzo ya bidhaa za Afrika Masharik...   \n",
       "3   MENEJA Mawasiliano na Utetezi wa asasi ya AGP...   \n",
       "4   WAZIRI wa Kilimo, Japhet Hasunga amesema seri...   \n",
       "\n",
       "                                    Words_in_Numbers  \n",
       "0  [45737, 67058, 76498, 76704, 45630, 48093, 476...  \n",
       "1  [48440, 47881, 76492, 57231, 76704, 55814, 767...  \n",
       "2  [57083, 76704, 43711, 76704, 9859, 79341, 448,...  \n",
       "3  [44420, 43733, 48552, 64918, 67058, 7883, 7670...  \n",
       "4  [76288, 67058, 26623, 16381, 5477, 54873, 2338...  "
      ]
     },
     "execution_count": 50,
     "metadata": {},
     "output_type": "execute_result"
    }
   ],
   "source": [
    "test_df.head()"
   ]
  },
  {
   "cell_type": "code",
   "execution_count": 52,
   "metadata": {
    "id": "ykk17oAEoPwM"
   },
   "outputs": [],
   "source": [
    "__MAXWORD__=400\n",
    "test_word_list=list(test_df.Words_in_Numbers)\n",
    "x_test=create_x(test_word_list,maxword=__MAXWORD__)"
   ]
  },
  {
   "cell_type": "code",
   "execution_count": 53,
   "metadata": {},
   "outputs": [],
   "source": [
    "model.load_weights(\"Swahili_2_layer_LSTM_0.00737.xhdf5\")"
   ]
  },
  {
   "cell_type": "code",
   "execution_count": 54,
   "metadata": {
    "id": "Yg0DqmUWoj5s"
   },
   "outputs": [],
   "source": [
    "y_pred=model.predict(x_test)"
   ]
  },
  {
   "cell_type": "code",
   "execution_count": 55,
   "metadata": {
    "id": "itw7lX_hqO5m"
   },
   "outputs": [],
   "source": [
    "o=[\"kitaifa\",\"michezo\",\"biashara\",\"kamataifa\",\"burudani\"]"
   ]
  },
  {
   "cell_type": "code",
   "execution_count": 56,
   "metadata": {
    "id": "JOQFlEC2oj2i"
   },
   "outputs": [],
   "source": [
    "def data_generator(y_pred):\n",
    "    out=[]\n",
    "    for pred in y_pred:\n",
    "        t1=[0,0,0,0,0]\n",
    "        ox=pred.argmax()\n",
    "        t1[ox]=1\n",
    "        out.append(t1) \n",
    "    return(out)"
   ]
  },
  {
   "cell_type": "code",
   "execution_count": 57,
   "metadata": {
    "id": "tSRQc0kWojzb"
   },
   "outputs": [],
   "source": [
    "output=data_generator(y_pred)\n",
    "\n",
    "output0=[x[0] for x in output]\n",
    "output1=[x[1] for x in output]\n",
    "output2=[x[2] for x in output]\n",
    "output3=[x[3] for x in output]\n",
    "output4=[x[4] for x in output]"
   ]
  },
  {
   "cell_type": "code",
   "execution_count": 58,
   "metadata": {
    "id": "G88pQ7jYojvu"
   },
   "outputs": [],
   "source": [
    "df_csv=pd.DataFrame()\n",
    "df_csv[\"test_id\"]=test_df[\"swahili_id\"]\n",
    "df_csv[o[0]]=output0\n",
    "df_csv[o[1]]=output1\n",
    "df_csv[o[2]]=output2\n",
    "df_csv[o[3]]=output3\n",
    "df_csv[o[4]]=output4"
   ]
  },
  {
   "cell_type": "code",
   "execution_count": 59,
   "metadata": {
    "id": "3NSaY0zkyu1t"
   },
   "outputs": [
    {
     "data": {
      "text/html": [
       "<div>\n",
       "<style scoped>\n",
       "    .dataframe tbody tr th:only-of-type {\n",
       "        vertical-align: middle;\n",
       "    }\n",
       "\n",
       "    .dataframe tbody tr th {\n",
       "        vertical-align: top;\n",
       "    }\n",
       "\n",
       "    .dataframe thead th {\n",
       "        text-align: right;\n",
       "    }\n",
       "</style>\n",
       "<table border=\"1\" class=\"dataframe\">\n",
       "  <thead>\n",
       "    <tr style=\"text-align: right;\">\n",
       "      <th></th>\n",
       "      <th>test_id</th>\n",
       "      <th>kitaifa</th>\n",
       "      <th>michezo</th>\n",
       "      <th>biashara</th>\n",
       "      <th>kamataifa</th>\n",
       "      <th>burudani</th>\n",
       "    </tr>\n",
       "  </thead>\n",
       "  <tbody>\n",
       "    <tr>\n",
       "      <th>0</th>\n",
       "      <td>001dd47ac202d9db6624a5ff734a5e7dddafeaf2</td>\n",
       "      <td>1</td>\n",
       "      <td>0</td>\n",
       "      <td>0</td>\n",
       "      <td>0</td>\n",
       "      <td>0</td>\n",
       "    </tr>\n",
       "    <tr>\n",
       "      <th>1</th>\n",
       "      <td>0043d97f7690e9bc02f0ed8bb2b260d1d44bad92</td>\n",
       "      <td>0</td>\n",
       "      <td>1</td>\n",
       "      <td>0</td>\n",
       "      <td>0</td>\n",
       "      <td>0</td>\n",
       "    </tr>\n",
       "    <tr>\n",
       "      <th>2</th>\n",
       "      <td>00579c2307b5c11003d21c40c3ecff5e922c3fd8</td>\n",
       "      <td>0</td>\n",
       "      <td>0</td>\n",
       "      <td>1</td>\n",
       "      <td>0</td>\n",
       "      <td>0</td>\n",
       "    </tr>\n",
       "    <tr>\n",
       "      <th>3</th>\n",
       "      <td>00868eeee349e286303706ef0ffd851f39708d37</td>\n",
       "      <td>1</td>\n",
       "      <td>0</td>\n",
       "      <td>0</td>\n",
       "      <td>0</td>\n",
       "      <td>0</td>\n",
       "    </tr>\n",
       "    <tr>\n",
       "      <th>4</th>\n",
       "      <td>00a5cb12d3058dcf2e42f277eee599992db32412</td>\n",
       "      <td>1</td>\n",
       "      <td>0</td>\n",
       "      <td>0</td>\n",
       "      <td>0</td>\n",
       "      <td>0</td>\n",
       "    </tr>\n",
       "  </tbody>\n",
       "</table>\n",
       "</div>"
      ],
      "text/plain": [
       "                                    test_id  kitaifa  michezo  biashara  \\\n",
       "0  001dd47ac202d9db6624a5ff734a5e7dddafeaf2        1        0         0   \n",
       "1  0043d97f7690e9bc02f0ed8bb2b260d1d44bad92        0        1         0   \n",
       "2  00579c2307b5c11003d21c40c3ecff5e922c3fd8        0        0         1   \n",
       "3  00868eeee349e286303706ef0ffd851f39708d37        1        0         0   \n",
       "4  00a5cb12d3058dcf2e42f277eee599992db32412        1        0         0   \n",
       "\n",
       "   kamataifa  burudani  \n",
       "0          0         0  \n",
       "1          0         0  \n",
       "2          0         0  \n",
       "3          0         0  \n",
       "4          0         0  "
      ]
     },
     "execution_count": 59,
     "metadata": {},
     "output_type": "execute_result"
    }
   ],
   "source": [
    "df_csv.head()"
   ]
  },
  {
   "cell_type": "code",
   "execution_count": 60,
   "metadata": {
    "id": "hw4CUPobbH7A"
   },
   "outputs": [],
   "source": [
    "from datetime  import datetime"
   ]
  },
  {
   "cell_type": "code",
   "execution_count": 61,
   "metadata": {
    "id": "CAbhqmcPdF6U"
   },
   "outputs": [],
   "source": [
    "a=datetime.now().strftime(\"%Y%m%d_%H%M%S\")"
   ]
  },
  {
   "cell_type": "code",
   "execution_count": 62,
   "metadata": {
    "id": "MiOwO9UTdeUt"
   },
   "outputs": [],
   "source": [
    "fname=\"submission_\"+a+\".csv\""
   ]
  },
  {
   "cell_type": "code",
   "execution_count": 63,
   "metadata": {
    "id": "8ELciPC_OpWA"
   },
   "outputs": [],
   "source": [
    "df_csv.to_csv(fname,index=False)"
   ]
  },
  {
   "cell_type": "code",
   "execution_count": 64,
   "metadata": {
    "id": "wvmaQZGBYM_7"
   },
   "outputs": [
    {
     "name": "stdout",
     "output_type": "stream",
     "text": [
      "test_id,kitaifa,michezo,biashara,kamataifa,burudani\n",
      "001dd47ac202d9db6624a5ff734a5e7dddafeaf2,1,0,0,0,0\n",
      "0043d97f7690e9bc02f0ed8bb2b260d1d44bad92,0,1,0,0,0\n",
      "00579c2307b5c11003d21c40c3ecff5e922c3fd8,0,0,1,0,0\n",
      "00868eeee349e286303706ef0ffd851f39708d37,1,0,0,0,0\n",
      "00a5cb12d3058dcf2e42f277eee599992db32412,1,0,0,0,0\n",
      "00a93e174866089d7f4b59b72645573f963da555,0,1,0,0,0\n",
      "00caee8b79f36cc0a5ae4fe86b8abbedeef6c705,1,0,0,0,0\n",
      "00e72e69de296484ccacd96e38240844ac61be23,0,1,0,0,0\n",
      "018effc3b6ce812c825fb01d244f4b849658ef3c,0,1,0,0,0\n"
     ]
    }
   ],
   "source": [
    "!head $fname"
   ]
  },
  {
   "cell_type": "code",
   "execution_count": null,
   "metadata": {
    "id": "OrtPBTgcYwtg"
   },
   "outputs": [],
   "source": []
  },
  {
   "cell_type": "raw",
   "metadata": {},
   "source": []
  },
  {
   "cell_type": "raw",
   "metadata": {},
   "source": []
  },
  {
   "cell_type": "code",
   "execution_count": null,
   "metadata": {},
   "outputs": [],
   "source": []
  }
 ],
 "metadata": {
  "accelerator": "GPU",
  "colab": {
   "collapsed_sections": [],
   "include_colab_link": true,
   "name": "Swahili_20211218.ipynb",
   "provenance": []
  },
  "kernelspec": {
   "display_name": "Python 3",
   "language": "python",
   "name": "python3"
  },
  "language_info": {
   "codemirror_mode": {
    "name": "ipython",
    "version": 3
   },
   "file_extension": ".py",
   "mimetype": "text/x-python",
   "name": "python",
   "nbconvert_exporter": "python",
   "pygments_lexer": "ipython3",
   "version": "3.8.10"
  }
 },
 "nbformat": 4,
 "nbformat_minor": 4
}
